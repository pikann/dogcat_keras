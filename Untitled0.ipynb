{
  "nbformat": 4,
  "nbformat_minor": 0,
  "metadata": {
    "colab": {
      "name": "Untitled0.ipynb",
      "version": "0.3.2",
      "provenance": [],
      "collapsed_sections": []
    },
    "kernelspec": {
      "name": "python3",
      "display_name": "Python 3"
    },
    "accelerator": "GPU"
  },
  "cells": [
    {
      "cell_type": "code",
      "metadata": {
        "id": "xha2LvowrIUC",
        "colab_type": "code",
        "outputId": "1f25b2dc-0c99-4652-e143-fe545eba5fb5",
        "colab": {
          "base_uri": "https://localhost:8080/",
          "height": 54
        }
      },
      "source": [
        "from google.colab import drive\n",
        "drive.mount('/content/drive')"
      ],
      "execution_count": 0,
      "outputs": [
        {
          "output_type": "stream",
          "text": [
            "Drive already mounted at /content/drive; to attempt to forcibly remount, call drive.mount(\"/content/drive\", force_remount=True).\n"
          ],
          "name": "stdout"
        }
      ]
    },
    {
      "cell_type": "code",
      "metadata": {
        "id": "VJCObZ1prLTZ",
        "colab_type": "code",
        "colab": {}
      },
      "source": [
        "import zipfile\n",
        "zip_ref = zipfile.ZipFile(\"/content/drive/My Drive/ChoMeo/train.zip\", 'r')\n",
        "zip_ref.extractall(\"/tmp\")\n",
        "zip_ref.close()"
      ],
      "execution_count": 0,
      "outputs": []
    },
    {
      "cell_type": "code",
      "metadata": {
        "id": "pozphjkFrgv6",
        "colab_type": "code",
        "colab": {}
      },
      "source": [
        "from os import listdir\n",
        "from os.path import isfile, join\n",
        "\n",
        "mypath= \"/tmp/train\"\n",
        "file_names=[f for f in listdir(mypath) if isfile(join(mypath, f))]"
      ],
      "execution_count": 0,
      "outputs": []
    },
    {
      "cell_type": "code",
      "metadata": {
        "id": "P37pWRb4rnPG",
        "colab_type": "code",
        "outputId": "e9feda79-de83-4f36-9b72-8f96d7136ab2",
        "colab": {
          "base_uri": "https://localhost:8080/",
          "height": 34
        }
      },
      "source": [
        "print(str(len(file_names)))"
      ],
      "execution_count": 0,
      "outputs": [
        {
          "output_type": "stream",
          "text": [
            "25000\n"
          ],
          "name": "stdout"
        }
      ]
    },
    {
      "cell_type": "code",
      "metadata": {
        "id": "NgASmb4prvar",
        "colab_type": "code",
        "outputId": "f54f74d4-55e8-4a12-d75c-d8576e6fba60",
        "colab": {
          "base_uri": "https://localhost:8080/",
          "height": 187
        }
      },
      "source": [
        "import cv2\n",
        "import tensorflow as tf\n",
        "import numpy as np\n",
        "\n",
        "x_data=np.array([[]])\n",
        "y_data=np.array([[]])\n",
        "i=0\n",
        "for name in file_names:\n",
        "    img=cv2.imread(mypath+\"/\"+name)\n",
        "    if (i==0):\n",
        "        x_data=np.array([cv2.resize(img,(200,200))])\n",
        "        if (name[0]=='d'):\n",
        "            y_data=np.array([[1,0]])\n",
        "        else: y_data=np.array([[0,1]])\n",
        "    else: \n",
        "        x_data=np.append(x_data,[cv2.resize(img,(200,200))],axis=0)\n",
        "        if (name[0]=='d'):\n",
        "            y_data=np.append(y_data, [[1,0]],axis=0)\n",
        "        else: y_data=np.append(y_data, [[0,1]],axis=0)\n",
        "    i=i+1\n",
        "    if (i%100==0): print(\"Load {} image complete!\".format(i))\n",
        "    if (i==1000): break"
      ],
      "execution_count": 0,
      "outputs": [
        {
          "output_type": "stream",
          "text": [
            "Load 100 image complete!\n",
            "Load 200 image complete!\n",
            "Load 300 image complete!\n",
            "Load 400 image complete!\n",
            "Load 500 image complete!\n",
            "Load 600 image complete!\n",
            "Load 700 image complete!\n",
            "Load 800 image complete!\n",
            "Load 900 image complete!\n",
            "Load 1000 image complete!\n"
          ],
          "name": "stdout"
        }
      ]
    },
    {
      "cell_type": "code",
      "metadata": {
        "id": "VUDOWogctgIq",
        "colab_type": "code",
        "outputId": "9301f74e-b66f-4c41-b440-83ab8bd1d695",
        "colab": {
          "base_uri": "https://localhost:8080/",
          "height": 153
        }
      },
      "source": [
        "print(x_data.shape)\n",
        "print(y_data)"
      ],
      "execution_count": 0,
      "outputs": [
        {
          "output_type": "stream",
          "text": [
            "(1000, 200, 200, 3)\n",
            "[[0 1]\n",
            " [0 1]\n",
            " [1 0]\n",
            " ...\n",
            " [1 0]\n",
            " [1 0]\n",
            " [0 1]]\n"
          ],
          "name": "stdout"
        }
      ]
    },
    {
      "cell_type": "code",
      "metadata": {
        "id": "rS5WRoISw07C",
        "colab_type": "code",
        "colab": {}
      },
      "source": [
        "x_train=x_data[:800]\n",
        "y_train=y_data[:800]\n",
        "x_test=x_data[800:]\n",
        "y_test=y_data[800:]"
      ],
      "execution_count": 0,
      "outputs": []
    },
    {
      "cell_type": "code",
      "metadata": {
        "id": "ChSC1QTsxIZQ",
        "colab_type": "code",
        "colab": {}
      },
      "source": [
        "def Create_model(input_shape):\n",
        "    model=tf.keras.Sequential()\n",
        "    model.add(tf.keras.layers.Conv2D(filters=64,\n",
        "                                     kernel_size=(3,3),\n",
        "                                     activation='relu',\n",
        "                                     input_shape = input_shape\n",
        "                                    ))\n",
        "    model.add(tf.keras.layers.MaxPooling2D(pool_size=(2,2)))\n",
        "\n",
        "    model.add(tf.keras.layers.Conv2D(filters=128,\n",
        "                                     kernel_size=(3,3),\n",
        "                                     activation='relu'))\n",
        "    model.add(tf.keras.layers.MaxPooling2D(pool_size=(2,2)))\n",
        "\n",
        "    model.add(tf.keras.layers.Conv2D(filters=128, \n",
        "                                     kernel_size=(3,3),\n",
        "                                     activation='relu'))\n",
        "    model.add(tf.keras.layers.MaxPooling2D(pool_size=(2, 2)))\n",
        "    model.add(tf.keras.layers.Dropout(0.3))\n",
        "    model.add(tf.keras.layers.Flatten())\n",
        "    model.add(tf.keras.layers.Dense(units=1024,\n",
        "                                    activation='relu'))\n",
        "    model.add(tf.keras.layers.Dense(units=2,\n",
        "                                    activation='softmax'))\n",
        "    model.compile(loss=tf.keras.losses.categorical_crossentropy, \n",
        "                  optimizer=tf.keras.optimizers.Adam(), \n",
        "                  metrics=['accuracy'])\n",
        "    return model"
      ],
      "execution_count": 0,
      "outputs": []
    },
    {
      "cell_type": "code",
      "metadata": {
        "id": "8DCmaF0OxV3c",
        "colab_type": "code",
        "outputId": "fe88d190-0383-4f15-f5e5-f19069920bcb",
        "colab": {
          "base_uri": "https://localhost:8080/",
          "height": 510
        }
      },
      "source": [
        "model=Create_model((200,200,3))\n",
        "print(model.summary())"
      ],
      "execution_count": 0,
      "outputs": [
        {
          "output_type": "stream",
          "text": [
            "Model: \"sequential_5\"\n",
            "_________________________________________________________________\n",
            "Layer (type)                 Output Shape              Param #   \n",
            "=================================================================\n",
            "conv2d_13 (Conv2D)           (None, 198, 198, 64)      1792      \n",
            "_________________________________________________________________\n",
            "max_pooling2d_12 (MaxPooling (None, 99, 99, 64)        0         \n",
            "_________________________________________________________________\n",
            "conv2d_14 (Conv2D)           (None, 97, 97, 128)       73856     \n",
            "_________________________________________________________________\n",
            "max_pooling2d_13 (MaxPooling (None, 48, 48, 128)       0         \n",
            "_________________________________________________________________\n",
            "conv2d_15 (Conv2D)           (None, 46, 46, 128)       147584    \n",
            "_________________________________________________________________\n",
            "max_pooling2d_14 (MaxPooling (None, 23, 23, 128)       0         \n",
            "_________________________________________________________________\n",
            "dropout_4 (Dropout)          (None, 23, 23, 128)       0         \n",
            "_________________________________________________________________\n",
            "flatten_4 (Flatten)          (None, 67712)             0         \n",
            "_________________________________________________________________\n",
            "dense_8 (Dense)              (None, 1024)              69338112  \n",
            "_________________________________________________________________\n",
            "dense_9 (Dense)              (None, 2)                 2050      \n",
            "=================================================================\n",
            "Total params: 69,563,394\n",
            "Trainable params: 69,563,394\n",
            "Non-trainable params: 0\n",
            "_________________________________________________________________\n",
            "None\n"
          ],
          "name": "stdout"
        }
      ]
    },
    {
      "cell_type": "code",
      "metadata": {
        "id": "TNDGUY1hx1Ul",
        "colab_type": "code",
        "outputId": "eddf20c3-9be2-43c7-f300-741b4730a068",
        "colab": {
          "base_uri": "https://localhost:8080/",
          "height": 1000
        }
      },
      "source": [
        "from time import time\n",
        "import os\n",
        "from tensorflow.keras.callbacks import TensorBoard\n",
        "from tensorflow.keras.callbacks import ModelCheckpoint\n",
        "tensorboard= TensorBoard(log_dir=\"logs/{}\".format(time()))\n",
        "\n",
        "checkpoint_path = \"training_1/cp.ckpt\"\n",
        "checkpoint_dir = os.path.dirname(checkpoint_path)\n",
        "\n",
        "checkpoint = ModelCheckpoint(checkpoint_path,\n",
        "                                                save_weights_only=True,\n",
        "                                                verbose=1)\n",
        "\n",
        "callbacks= [tensorboard, checkpoint]\n",
        "\n",
        "history=model.fit(x_train, y_train, \n",
        "                  batch_size=16, \n",
        "                  epochs=25, \n",
        "                  validation_data=(x_test, y_test), \n",
        "                  shuffle=True,\n",
        "                  callbacks=callbacks)\n",
        "model.save(\"model.h5\")"
      ],
      "execution_count": 0,
      "outputs": [
        {
          "output_type": "stream",
          "text": [
            "Train on 800 samples, validate on 200 samples\n",
            "Epoch 1/25\n",
            "784/800 [============================>.] - ETA: 0s - loss: 173.4706 - acc: 0.4834\n",
            "Epoch 00001: saving model to training_1/cp.ckpt\n",
            "800/800 [==============================] - 15s 19ms/sample - loss: 170.0150 - acc: 0.4850 - val_loss: 0.6968 - val_acc: 0.4650\n",
            "Epoch 2/25\n",
            "784/800 [============================>.] - ETA: 0s - loss: 0.6816 - acc: 0.5357\n",
            "Epoch 00002: saving model to training_1/cp.ckpt\n",
            "800/800 [==============================] - 13s 17ms/sample - loss: 0.6821 - acc: 0.5350 - val_loss: 0.6908 - val_acc: 0.5150\n",
            "Epoch 3/25\n",
            "784/800 [============================>.] - ETA: 0s - loss: 0.6478 - acc: 0.6110\n",
            "Epoch 00003: saving model to training_1/cp.ckpt\n",
            "800/800 [==============================] - 13s 16ms/sample - loss: 0.6484 - acc: 0.6087 - val_loss: 0.7054 - val_acc: 0.5300\n",
            "Epoch 4/25\n",
            "784/800 [============================>.] - ETA: 0s - loss: 0.5775 - acc: 0.6837\n",
            "Epoch 00004: saving model to training_1/cp.ckpt\n",
            "800/800 [==============================] - 13s 16ms/sample - loss: 0.5773 - acc: 0.6862 - val_loss: 0.7105 - val_acc: 0.4850\n",
            "Epoch 5/25\n",
            "784/800 [============================>.] - ETA: 0s - loss: 0.5619 - acc: 0.7194\n",
            "Epoch 00005: saving model to training_1/cp.ckpt\n",
            "800/800 [==============================] - 13s 17ms/sample - loss: 0.5622 - acc: 0.7200 - val_loss: 0.7205 - val_acc: 0.5050\n",
            "Epoch 6/25\n",
            "784/800 [============================>.] - ETA: 0s - loss: 0.4998 - acc: 0.7615\n",
            "Epoch 00006: saving model to training_1/cp.ckpt\n",
            "800/800 [==============================] - 13s 16ms/sample - loss: 0.5057 - acc: 0.7538 - val_loss: 0.7353 - val_acc: 0.5450\n",
            "Epoch 7/25\n",
            "784/800 [============================>.] - ETA: 0s - loss: 0.4498 - acc: 0.7946\n",
            "Epoch 00007: saving model to training_1/cp.ckpt\n",
            "800/800 [==============================] - 13s 16ms/sample - loss: 0.4514 - acc: 0.7925 - val_loss: 0.7968 - val_acc: 0.5700\n",
            "Epoch 8/25\n",
            "784/800 [============================>.] - ETA: 0s - loss: 0.3599 - acc: 0.8329\n",
            "Epoch 00008: saving model to training_1/cp.ckpt\n",
            "800/800 [==============================] - 13s 16ms/sample - loss: 0.3593 - acc: 0.8350 - val_loss: 0.9695 - val_acc: 0.5850\n",
            "Epoch 9/25\n",
            "784/800 [============================>.] - ETA: 0s - loss: 0.2716 - acc: 0.8814\n",
            "Epoch 00009: saving model to training_1/cp.ckpt\n",
            "800/800 [==============================] - 13s 16ms/sample - loss: 0.2779 - acc: 0.8750 - val_loss: 0.8786 - val_acc: 0.5600\n",
            "Epoch 10/25\n",
            "784/800 [============================>.] - ETA: 0s - loss: 0.2809 - acc: 0.8827\n",
            "Epoch 00010: saving model to training_1/cp.ckpt\n",
            "800/800 [==============================] - 13s 16ms/sample - loss: 0.2800 - acc: 0.8825 - val_loss: 1.6862 - val_acc: 0.5650\n",
            "Epoch 11/25\n",
            "784/800 [============================>.] - ETA: 0s - loss: 0.1827 - acc: 0.9349\n",
            "Epoch 00011: saving model to training_1/cp.ckpt\n",
            "800/800 [==============================] - 13s 16ms/sample - loss: 0.1812 - acc: 0.9350 - val_loss: 1.6353 - val_acc: 0.5950\n",
            "Epoch 12/25\n",
            "784/800 [============================>.] - ETA: 0s - loss: 0.1986 - acc: 0.9222\n",
            "Epoch 00012: saving model to training_1/cp.ckpt\n",
            "800/800 [==============================] - 13s 16ms/sample - loss: 0.1956 - acc: 0.9237 - val_loss: 1.0648 - val_acc: 0.5800\n",
            "Epoch 13/25\n",
            "784/800 [============================>.] - ETA: 0s - loss: 0.1508 - acc: 0.9388\n",
            "Epoch 00013: saving model to training_1/cp.ckpt\n",
            "800/800 [==============================] - 13s 16ms/sample - loss: 0.1513 - acc: 0.9388 - val_loss: 1.3444 - val_acc: 0.6100\n",
            "Epoch 14/25\n",
            "784/800 [============================>.] - ETA: 0s - loss: 0.1428 - acc: 0.9413\n",
            "Epoch 00014: saving model to training_1/cp.ckpt\n",
            "800/800 [==============================] - 13s 16ms/sample - loss: 0.1425 - acc: 0.9425 - val_loss: 1.5814 - val_acc: 0.5350\n",
            "Epoch 15/25\n",
            "784/800 [============================>.] - ETA: 0s - loss: 0.1651 - acc: 0.9464\n",
            "Epoch 00015: saving model to training_1/cp.ckpt\n",
            "800/800 [==============================] - 13s 17ms/sample - loss: 0.1687 - acc: 0.9438 - val_loss: 1.0177 - val_acc: 0.5700\n",
            "Epoch 16/25\n",
            "784/800 [============================>.] - ETA: 0s - loss: 0.1443 - acc: 0.9515\n",
            "Epoch 00016: saving model to training_1/cp.ckpt\n",
            "800/800 [==============================] - 13s 16ms/sample - loss: 0.1431 - acc: 0.9525 - val_loss: 1.6641 - val_acc: 0.5900\n",
            "Epoch 17/25\n",
            "784/800 [============================>.] - ETA: 0s - loss: 0.1276 - acc: 0.9579\n",
            "Epoch 00017: saving model to training_1/cp.ckpt\n",
            "800/800 [==============================] - 13s 17ms/sample - loss: 0.1258 - acc: 0.9588 - val_loss: 1.1833 - val_acc: 0.6050\n",
            "Epoch 18/25\n",
            "784/800 [============================>.] - ETA: 0s - loss: 0.0818 - acc: 0.9770\n",
            "Epoch 00018: saving model to training_1/cp.ckpt\n",
            "800/800 [==============================] - 13s 16ms/sample - loss: 0.0807 - acc: 0.9775 - val_loss: 1.1961 - val_acc: 0.5850\n",
            "Epoch 19/25\n",
            "784/800 [============================>.] - ETA: 0s - loss: 0.0529 - acc: 0.9834\n",
            "Epoch 00019: saving model to training_1/cp.ckpt\n",
            "800/800 [==============================] - 13s 16ms/sample - loss: 0.0534 - acc: 0.9825 - val_loss: 1.5194 - val_acc: 0.5900\n",
            "Epoch 20/25\n",
            "784/800 [============================>.] - ETA: 0s - loss: 0.0427 - acc: 0.9860\n",
            "Epoch 00020: saving model to training_1/cp.ckpt\n",
            "800/800 [==============================] - 13s 16ms/sample - loss: 0.0426 - acc: 0.9862 - val_loss: 2.1513 - val_acc: 0.6000\n",
            "Epoch 21/25\n",
            "784/800 [============================>.] - ETA: 0s - loss: 0.0575 - acc: 0.9847\n",
            "Epoch 00021: saving model to training_1/cp.ckpt\n",
            "800/800 [==============================] - 13s 16ms/sample - loss: 0.0566 - acc: 0.9850 - val_loss: 2.3472 - val_acc: 0.5450\n",
            "Epoch 22/25\n",
            "784/800 [============================>.] - ETA: 0s - loss: 0.0718 - acc: 0.9758\n",
            "Epoch 00022: saving model to training_1/cp.ckpt\n",
            "800/800 [==============================] - 13s 16ms/sample - loss: 0.0732 - acc: 0.9750 - val_loss: 2.4092 - val_acc: 0.5600\n",
            "Epoch 23/25\n",
            "784/800 [============================>.] - ETA: 0s - loss: 0.1225 - acc: 0.9732\n",
            "Epoch 00023: saving model to training_1/cp.ckpt\n",
            "800/800 [==============================] - 13s 16ms/sample - loss: 0.1229 - acc: 0.9725 - val_loss: 2.7199 - val_acc: 0.5700\n",
            "Epoch 24/25\n",
            "784/800 [============================>.] - ETA: 0s - loss: 0.0672 - acc: 0.9758\n",
            "Epoch 00024: saving model to training_1/cp.ckpt\n",
            "800/800 [==============================] - 13s 16ms/sample - loss: 0.0667 - acc: 0.9762 - val_loss: 1.8114 - val_acc: 0.5700\n",
            "Epoch 25/25\n",
            "784/800 [============================>.] - ETA: 0s - loss: 0.0900 - acc: 0.9668\n",
            "Epoch 00025: saving model to training_1/cp.ckpt\n",
            "800/800 [==============================] - 13s 16ms/sample - loss: 0.0919 - acc: 0.9650 - val_loss: 1.7423 - val_acc: 0.5650\n"
          ],
          "name": "stdout"
        }
      ]
    },
    {
      "cell_type": "code",
      "metadata": {
        "id": "XG0I6xqv4uag",
        "colab_type": "code",
        "outputId": "801be689-5659-4c8a-8b7a-1600a6c4f1a6",
        "colab": {
          "base_uri": "https://localhost:8080/",
          "height": 68
        }
      },
      "source": [
        "score=model.evaluate(x_test, y_test)\n",
        "print(score[0])\n",
        "print(score[1])"
      ],
      "execution_count": 0,
      "outputs": [
        {
          "output_type": "stream",
          "text": [
            "200/200 [==============================] - 1s 3ms/sample - loss: 1.7423 - acc: 0.5650\n",
            "1.7422581672668458\n",
            "0.565\n"
          ],
          "name": "stdout"
        }
      ]
    },
    {
      "cell_type": "code",
      "metadata": {
        "id": "rcCa2qvL44Nz",
        "colab_type": "code",
        "outputId": "7c126fc5-4660-41c4-82f2-d3b014f1cdec",
        "colab": {
          "base_uri": "https://localhost:8080/",
          "height": 292
        }
      },
      "source": [
        "!zip -r /content/logs /content/logs"
      ],
      "execution_count": 0,
      "outputs": [
        {
          "output_type": "stream",
          "text": [
            "updating: content/logs/ (stored 0%)\n",
            "updating: content/logs/1563113882.1963062/ (stored 0%)\n",
            "updating: content/logs/1563113882.1963062/plugins/ (stored 0%)\n",
            "updating: content/logs/1563113882.1963062/plugins/profile/ (stored 0%)\n",
            "updating: content/logs/1563113882.1963062/plugins/profile/2019-07-14_14-18-09/ (stored 0%)\n",
            "updating: content/logs/1563113882.1963062/plugins/profile/2019-07-14_14-18-09/local.trace (deflated 89%)\n",
            "updating: content/logs/1563113882.1963062/events.out.tfevents.1563113882.f90ea913abcd (deflated 88%)\n",
            "updating: content/logs/1563113882.1963062/events.out.tfevents.1563113889.f90ea913abcd.profile-empty (deflated 5%)\n",
            "  adding: content/logs/1563119828.518225/ (stored 0%)\n",
            "  adding: content/logs/1563119828.518225/plugins/ (stored 0%)\n",
            "  adding: content/logs/1563119828.518225/plugins/profile/ (stored 0%)\n",
            "  adding: content/logs/1563119828.518225/plugins/profile/2019-07-14_15-57-12/ (stored 0%)\n",
            "  adding: content/logs/1563119828.518225/plugins/profile/2019-07-14_15-57-12/local.trace (deflated 90%)\n",
            "  adding: content/logs/1563119828.518225/events.out.tfevents.1563119828.f90ea913abcd (deflated 89%)\n",
            "  adding: content/logs/1563119828.518225/events.out.tfevents.1563119832.f90ea913abcd.profile-empty (deflated 10%)\n"
          ],
          "name": "stdout"
        }
      ]
    }
  ]
}